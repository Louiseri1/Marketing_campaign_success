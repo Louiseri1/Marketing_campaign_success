{
 "cells": [
  {
   "cell_type": "code",
   "execution_count": 1,
   "id": "1edac527-91f3-4f65-a87d-b87141ac4364",
   "metadata": {},
   "outputs": [],
   "source": [
    "import pandas as pd\n",
    "import numpy as np\n",
    "from sklearn.preprocessing import LabelEncoder, StandardScaler\n",
    "from sklearn.linear_model import LogisticRegression\n",
    "from sklearn.model_selection import train_test_split\n",
    "from sklearn.metrics import classification_report, accuracy_score, precision_score, recall_score, f1_score, roc_auc_score\n",
    "from imblearn.under_sampling import RandomUnderSampler\n",
    "from imblearn.over_sampling import SMOTE\n",
    "from imblearn.combine import SMOTEENN\n",
    "from collections import Counter\n",
    "import warnings\n",
    "warnings.filterwarnings(\"ignore\");"
   ]
  },
  {
   "cell_type": "code",
   "execution_count": 2,
   "id": "e757a47d-5189-4483-9cb4-fea94b31e8fc",
   "metadata": {},
   "outputs": [
    {
     "data": {
      "text/html": [
       "<div>\n",
       "<style scoped>\n",
       "    .dataframe tbody tr th:only-of-type {\n",
       "        vertical-align: middle;\n",
       "    }\n",
       "\n",
       "    .dataframe tbody tr th {\n",
       "        vertical-align: top;\n",
       "    }\n",
       "\n",
       "    .dataframe thead th {\n",
       "        text-align: right;\n",
       "    }\n",
       "</style>\n",
       "<table border=\"1\" class=\"dataframe\">\n",
       "  <thead>\n",
       "    <tr style=\"text-align: right;\">\n",
       "      <th></th>\n",
       "      <th>age</th>\n",
       "      <th>job</th>\n",
       "      <th>marital</th>\n",
       "      <th>education</th>\n",
       "      <th>default</th>\n",
       "      <th>housing</th>\n",
       "      <th>loan</th>\n",
       "      <th>contact</th>\n",
       "      <th>month</th>\n",
       "      <th>day_of_week</th>\n",
       "      <th>...</th>\n",
       "      <th>campaign</th>\n",
       "      <th>pdays</th>\n",
       "      <th>previous</th>\n",
       "      <th>poutcome</th>\n",
       "      <th>emp.var.rate</th>\n",
       "      <th>cons.price.idx</th>\n",
       "      <th>cons.conf.idx</th>\n",
       "      <th>euribor3m</th>\n",
       "      <th>nr.employed</th>\n",
       "      <th>y</th>\n",
       "    </tr>\n",
       "  </thead>\n",
       "  <tbody>\n",
       "    <tr>\n",
       "      <th>0</th>\n",
       "      <td>34</td>\n",
       "      <td>entrepreneur</td>\n",
       "      <td>married</td>\n",
       "      <td>high.school</td>\n",
       "      <td>unknown</td>\n",
       "      <td>no</td>\n",
       "      <td>no</td>\n",
       "      <td>telephone</td>\n",
       "      <td>may</td>\n",
       "      <td>wed</td>\n",
       "      <td>...</td>\n",
       "      <td>1</td>\n",
       "      <td>999</td>\n",
       "      <td>0</td>\n",
       "      <td>nonexistent</td>\n",
       "      <td>1.1</td>\n",
       "      <td>93.994</td>\n",
       "      <td>-36.4</td>\n",
       "      <td>4.859</td>\n",
       "      <td>5191.0</td>\n",
       "      <td>no</td>\n",
       "    </tr>\n",
       "    <tr>\n",
       "      <th>1</th>\n",
       "      <td>42</td>\n",
       "      <td>blue-collar</td>\n",
       "      <td>divorced</td>\n",
       "      <td>basic.9y</td>\n",
       "      <td>no</td>\n",
       "      <td>no</td>\n",
       "      <td>no</td>\n",
       "      <td>cellular</td>\n",
       "      <td>apr</td>\n",
       "      <td>mon</td>\n",
       "      <td>...</td>\n",
       "      <td>2</td>\n",
       "      <td>999</td>\n",
       "      <td>0</td>\n",
       "      <td>nonexistent</td>\n",
       "      <td>-1.8</td>\n",
       "      <td>93.075</td>\n",
       "      <td>-47.1</td>\n",
       "      <td>1.405</td>\n",
       "      <td>5099.1</td>\n",
       "      <td>no</td>\n",
       "    </tr>\n",
       "    <tr>\n",
       "      <th>2</th>\n",
       "      <td>30</td>\n",
       "      <td>blue-collar</td>\n",
       "      <td>married</td>\n",
       "      <td>basic.4y</td>\n",
       "      <td>no</td>\n",
       "      <td>yes</td>\n",
       "      <td>no</td>\n",
       "      <td>cellular</td>\n",
       "      <td>apr</td>\n",
       "      <td>mon</td>\n",
       "      <td>...</td>\n",
       "      <td>3</td>\n",
       "      <td>999</td>\n",
       "      <td>0</td>\n",
       "      <td>nonexistent</td>\n",
       "      <td>-1.8</td>\n",
       "      <td>93.075</td>\n",
       "      <td>-47.1</td>\n",
       "      <td>1.405</td>\n",
       "      <td>5099.1</td>\n",
       "      <td>no</td>\n",
       "    </tr>\n",
       "    <tr>\n",
       "      <th>3</th>\n",
       "      <td>33</td>\n",
       "      <td>services</td>\n",
       "      <td>married</td>\n",
       "      <td>high.school</td>\n",
       "      <td>no</td>\n",
       "      <td>unknown</td>\n",
       "      <td>unknown</td>\n",
       "      <td>cellular</td>\n",
       "      <td>aug</td>\n",
       "      <td>thu</td>\n",
       "      <td>...</td>\n",
       "      <td>2</td>\n",
       "      <td>999</td>\n",
       "      <td>0</td>\n",
       "      <td>nonexistent</td>\n",
       "      <td>-2.9</td>\n",
       "      <td>92.201</td>\n",
       "      <td>-31.4</td>\n",
       "      <td>0.873</td>\n",
       "      <td>5076.2</td>\n",
       "      <td>no</td>\n",
       "    </tr>\n",
       "    <tr>\n",
       "      <th>4</th>\n",
       "      <td>36</td>\n",
       "      <td>admin.</td>\n",
       "      <td>married</td>\n",
       "      <td>university.degree</td>\n",
       "      <td>unknown</td>\n",
       "      <td>yes</td>\n",
       "      <td>no</td>\n",
       "      <td>telephone</td>\n",
       "      <td>may</td>\n",
       "      <td>wed</td>\n",
       "      <td>...</td>\n",
       "      <td>2</td>\n",
       "      <td>999</td>\n",
       "      <td>0</td>\n",
       "      <td>nonexistent</td>\n",
       "      <td>1.1</td>\n",
       "      <td>93.994</td>\n",
       "      <td>-36.4</td>\n",
       "      <td>4.859</td>\n",
       "      <td>5191.0</td>\n",
       "      <td>no</td>\n",
       "    </tr>\n",
       "  </tbody>\n",
       "</table>\n",
       "<p>5 rows × 21 columns</p>\n",
       "</div>"
      ],
      "text/plain": [
       "   age           job   marital          education  default  housing     loan  \\\n",
       "0   34  entrepreneur   married        high.school  unknown       no       no   \n",
       "1   42   blue-collar  divorced           basic.9y       no       no       no   \n",
       "2   30   blue-collar   married           basic.4y       no      yes       no   \n",
       "3   33      services   married        high.school       no  unknown  unknown   \n",
       "4   36        admin.   married  university.degree  unknown      yes       no   \n",
       "\n",
       "     contact month day_of_week  ...  campaign  pdays  previous     poutcome  \\\n",
       "0  telephone   may         wed  ...         1    999         0  nonexistent   \n",
       "1   cellular   apr         mon  ...         2    999         0  nonexistent   \n",
       "2   cellular   apr         mon  ...         3    999         0  nonexistent   \n",
       "3   cellular   aug         thu  ...         2    999         0  nonexistent   \n",
       "4  telephone   may         wed  ...         2    999         0  nonexistent   \n",
       "\n",
       "  emp.var.rate  cons.price.idx  cons.conf.idx  euribor3m  nr.employed   y  \n",
       "0          1.1          93.994          -36.4      4.859       5191.0  no  \n",
       "1         -1.8          93.075          -47.1      1.405       5099.1  no  \n",
       "2         -1.8          93.075          -47.1      1.405       5099.1  no  \n",
       "3         -2.9          92.201          -31.4      0.873       5076.2  no  \n",
       "4          1.1          93.994          -36.4      4.859       5191.0  no  \n",
       "\n",
       "[5 rows x 21 columns]"
      ]
     },
     "execution_count": 2,
     "metadata": {},
     "output_type": "execute_result"
    }
   ],
   "source": [
    "df = pd.read_csv('subscribe_data.csv', sep = ';')\n",
    "df.head()"
   ]
  },
  {
   "cell_type": "code",
   "execution_count": 3,
   "id": "c72cde7e-a512-404a-8d16-7d248dd04f5d",
   "metadata": {},
   "outputs": [],
   "source": [
    "# Changing 'unknown' and '999' mode in the 'pdays' columns as NaN\n",
    "df = df.replace('unknown', np.nan)\n",
    "df['pdays'] = df['pdays'].replace(999, np.nan)"
   ]
  },
  {
   "cell_type": "code",
   "execution_count": 4,
   "id": "8bbf7250-1ef9-4333-93bd-f861cf2737ea",
   "metadata": {},
   "outputs": [
    {
     "data": {
      "text/plain": [
       "age                   0\n",
       "job                 174\n",
       "marital              40\n",
       "education           870\n",
       "default            4329\n",
       "housing             479\n",
       "loan                479\n",
       "contact               0\n",
       "month                 0\n",
       "day_of_week           0\n",
       "duration              0\n",
       "campaign              0\n",
       "pdays             19832\n",
       "previous              0\n",
       "poutcome              0\n",
       "emp.var.rate          0\n",
       "cons.price.idx        0\n",
       "cons.conf.idx         0\n",
       "euribor3m             0\n",
       "nr.employed           0\n",
       "y                     0\n",
       "dtype: int64"
      ]
     },
     "execution_count": 4,
     "metadata": {},
     "output_type": "execute_result"
    }
   ],
   "source": [
    "df.isna().sum()"
   ]
  },
  {
   "cell_type": "code",
   "execution_count": null,
   "id": "6276a1d4-3bfa-4d0e-a93e-a56b1bbdf308",
   "metadata": {},
   "outputs": [],
   "source": [
    "# Percentage of NaN in the dataset\n",
    "# Calcul du pourcentage de lignes contenant au moins un NaN\n",
    "percentage_nan_rows = df.isna().any(axis=1).mean() * 100\n",
    "print(f\"Pourcentage de lignes contenant des NaN : {percentage_nan_rows:.2f}%\")\n",
    "\n",
    "# Pourcentage de NaN dans le dataset\n",
    "percentage_nan = df.isna().any().mean() * 100\n",
    "print(f\"Pourcentage de NaN total : {percentage_nan:.2f}%\")"
   ]
  },
  {
   "cell_type": "code",
   "execution_count": 5,
   "id": "6a0dbf8e-b723-4bd1-91cf-836fee031506",
   "metadata": {},
   "outputs": [],
   "source": [
    "# function - Train test split & Logistic Regression\n",
    "def modeling(X, y) :\n",
    "    # train test split\n",
    "    X_train, X_test, y_train, y_test = train_test_split(X, y, test_size = 0.2, random_state = 42)\n",
    "\n",
    "    # Normalization of the X variables\n",
    "    scaler = StandardScaler()\n",
    "    X_train_scaled = scaler.fit_transform(X_train)\n",
    "    X_test_scaled = scaler.transform(X_test)\n",
    "\n",
    "    # Binomial logistic regression\n",
    "    LR = LogisticRegression()\n",
    "    LR.fit(X_train_scaled, y_train)\n",
    "    y_pred = LR.predict(X_test_scaled)\n",
    "    y_proba = LR.predict_proba(X_test)[:, 1]\n",
    "\n",
    "    # Metrics on our test sample\n",
    "    print(classification_report(y_test, y_pred))\n",
    "    # Calcul des métriques\n",
    "    accuracy = accuracy_score(y_test, y_pred)\n",
    "    precision = precision_score(y_test, y_pred) #, pos_label='Minority')\n",
    "    recall = recall_score(y_test, y_pred) # pos_label='Minority')\n",
    "    f1 = f1_score(y_test, y_pred) # pos_label='Minority')\n",
    "    roc_auc = roc_auc_score(y_test, y_proba)\n",
    "\n",
    "    return accuracy, precision, recall, f1, roc_auc"
   ]
  },
  {
   "cell_type": "markdown",
   "id": "5e5532d7-0f31-499f-b152-a2187b70101a",
   "metadata": {},
   "source": [
    "First Model "
   ]
  },
  {
   "cell_type": "markdown",
   "id": "e6f175f4-b631-4ef8-bef7-da23ebe99ad0",
   "metadata": {},
   "source": [
    "DVs and IV choice"
   ]
  },
  {
   "cell_type": "code",
   "execution_count": 8,
   "id": "dddecd37-5ba5-40de-b5b5-86d74315393c",
   "metadata": {},
   "outputs": [],
   "source": [
    "# Our DV is whether the client subscribed a term deposit. This variable is called “y”. We choose five IVs:\n",
    "# • The contact communication type: “contact”,\n",
    "# • The marital status: “marital”,\n",
    "# • The type of job: “job”,\n",
    "# • Whether or not the client has a personal loan: “loan”,\n",
    "# • The number of contacts performed during the campaign for a specific client: “campaign”.\n",
    "# These are the modified variables with the fewest NA’s (“unknown” value). These are also not highly correlated variables. \n",
    "# Furthermore, these variables allow us to have information about both the marketing campaign and about the client more personally."
   ]
  },
  {
   "cell_type": "code",
   "execution_count": 68,
   "id": "cda24324-ee13-4223-bbcd-cdcc25ff9780",
   "metadata": {},
   "outputs": [],
   "source": [
    "df_first_model = df[['contact', 'marital', 'job', 'loan', 'campaign', 'y']]\n",
    "\n",
    "# NaN suppression\n",
    "df_first_model = df_first_model.dropna()\n",
    "\n",
    "# Converting object columns into categorical\n",
    "encoder = LabelEncoder()\n",
    "\n",
    "for col in df[['contact', 'marital', 'job', 'loan', 'y']] :\n",
    "    df_first_model[col] = encoder.fit_transform(df_first_model[col])\n",
    "\n",
    "# IV and DVs\n",
    "y = df_first_model['y']\n",
    "X = df_first_model.drop(columns = 'y', axis = 0)"
   ]
  },
  {
   "cell_type": "code",
   "execution_count": 10,
   "id": "a39a30da-a990-404e-941e-9375bc4cd487",
   "metadata": {},
   "outputs": [
    {
     "name": "stdout",
     "output_type": "stream",
     "text": [
      "              precision    recall  f1-score   support\n",
      "\n",
      "           0       0.88      1.00      0.94      3517\n",
      "           1       0.00      0.00      0.00       466\n",
      "\n",
      "    accuracy                           0.88      3983\n",
      "   macro avg       0.44      0.50      0.47      3983\n",
      "weighted avg       0.78      0.88      0.83      3983\n",
      "\n"
     ]
    }
   ],
   "source": [
    "accuracy_first_model_simple, precision_first_model_simple, recall_first_model_simple, f1_first_model_simple, roc_auc_first_model_simple = modeling(X, y)"
   ]
  },
  {
   "cell_type": "code",
   "execution_count": 11,
   "id": "2b81a7e9-616d-4766-8b19-3ef282e5bdea",
   "metadata": {},
   "outputs": [
    {
     "name": "stdout",
     "output_type": "stream",
     "text": [
      "Répartition initiale des classes : Counter({0: 17634, 1: 2277})\n",
      "Répartition après sous-échantillonnage : Counter({0: 2277, 1: 2277})\n"
     ]
    }
   ],
   "source": [
    "# Under sampling\n",
    "\n",
    "# Vérification de la répartition initiale des classes\n",
    "print(f\"Répartition initiale des classes : {Counter(y)}\")\n",
    "\n",
    "# Appliquer le sous-échantillonnage (undersampling)\n",
    "rus = RandomUnderSampler(sampling_strategy='auto', random_state=42)\n",
    "X_us, y_us = rus.fit_resample(X, y)\n",
    "\n",
    "# Vérification de la répartition après sous-échantillonnage\n",
    "print(f\"Répartition après sous-échantillonnage : {Counter(y_us)}\")"
   ]
  },
  {
   "cell_type": "code",
   "execution_count": 12,
   "id": "a311b22e-a731-46b2-9a7e-94d1ce6c7acf",
   "metadata": {},
   "outputs": [
    {
     "name": "stdout",
     "output_type": "stream",
     "text": [
      "              precision    recall  f1-score   support\n",
      "\n",
      "           0       0.69      0.48      0.57       473\n",
      "           1       0.58      0.77      0.66       438\n",
      "\n",
      "    accuracy                           0.62       911\n",
      "   macro avg       0.64      0.63      0.61       911\n",
      "weighted avg       0.64      0.62      0.61       911\n",
      "\n"
     ]
    }
   ],
   "source": [
    "accuracy_first_model_us, precision_first_model_us, recall_first_model_us, f1_first_model_us, roc_auc_first_model_us = modeling(X_us, y_us)"
   ]
  },
  {
   "cell_type": "code",
   "execution_count": 13,
   "id": "96419007-2770-4fcd-8e3f-4b7abd361673",
   "metadata": {},
   "outputs": [
    {
     "name": "stdout",
     "output_type": "stream",
     "text": [
      "Répartition après SMOTE : Counter({0: 17634, 1: 17634})\n"
     ]
    }
   ],
   "source": [
    "# SMOTE\n",
    "# Appliquer SMOTE pour augmenter la classe minoritaire\n",
    "smote = SMOTE(random_state=42)\n",
    "X_os, y_os = smote.fit_resample(X, y)\n",
    "\n",
    "# Vérification de la répartition après SMOTE\n",
    "print(f\"Répartition après SMOTE : {Counter(y_os)}\")"
   ]
  },
  {
   "cell_type": "code",
   "execution_count": 14,
   "id": "cba893b4-7944-45e5-85ad-8f0942d12ada",
   "metadata": {},
   "outputs": [
    {
     "name": "stdout",
     "output_type": "stream",
     "text": [
      "              precision    recall  f1-score   support\n",
      "\n",
      "           0       0.71      0.46      0.56      3521\n",
      "           1       0.60      0.81      0.69      3533\n",
      "\n",
      "    accuracy                           0.64      7054\n",
      "   macro avg       0.66      0.64      0.62      7054\n",
      "weighted avg       0.66      0.64      0.62      7054\n",
      "\n"
     ]
    }
   ],
   "source": [
    "accuracy_first_model_os, precision_first_model_os, recall_first_model_os, f1_first_model_os, roc_auc_first_model_os = modeling(X_os, y_os)"
   ]
  },
  {
   "cell_type": "code",
   "execution_count": 80,
   "id": "be923a58-8811-48b3-9708-0f8bc379bc82",
   "metadata": {},
   "outputs": [
    {
     "name": "stdout",
     "output_type": "stream",
     "text": [
      "Répartition après SMOTEENN : Counter({0: 12523, 1: 258})\n"
     ]
    }
   ],
   "source": [
    "# Hybrid Sampling\n",
    "\n",
    "# Combinaison de SMOTE et NearMiss\n",
    "smote_enn = SMOTEENN(random_state=42)\n",
    "X_hs, y_hs = smote_enn.fit_resample(X, y)\n",
    "\n",
    "print(f\"Répartition après SMOTEENN : {Counter(y_hs)}\")"
   ]
  },
  {
   "cell_type": "code",
   "execution_count": 16,
   "id": "45e86fff-e51d-4676-bd1f-efd7c113fdf8",
   "metadata": {},
   "outputs": [
    {
     "name": "stdout",
     "output_type": "stream",
     "text": [
      "              precision    recall  f1-score   support\n",
      "\n",
      "           0       0.98      1.00      0.99      2506\n",
      "           1       0.14      0.02      0.03        51\n",
      "\n",
      "    accuracy                           0.98      2557\n",
      "   macro avg       0.56      0.51      0.51      2557\n",
      "weighted avg       0.96      0.98      0.97      2557\n",
      "\n"
     ]
    }
   ],
   "source": [
    "accuracy_first_model_hs, precision_first_model_hs, recall_first_model_hs, f1_first_model_hs, roc_auc_first_model_hs = modeling(X_hs, y_hs)"
   ]
  },
  {
   "cell_type": "markdown",
   "id": "f45201eb-2fc8-41e5-a988-224e63d1659f",
   "metadata": {},
   "source": [
    "Second model"
   ]
  },
  {
   "cell_type": "markdown",
   "id": "3cdd1ab5-cc72-403a-a4ca-658293f6af82",
   "metadata": {},
   "source": [
    "DVs and IV choice"
   ]
  },
  {
   "cell_type": "code",
   "execution_count": 19,
   "id": "1b6630c1-d6da-44bd-8f72-39be92536f60",
   "metadata": {},
   "outputs": [],
   "source": [
    "# We would like to focus on more external attributes to see how it affects the outcome. \n",
    "# We decided to look at other attributes, both linked to the marketing campaign itself and also the personal characteristics of the client: \n",
    "# \"poutcome\", \"previous\", \"education\", \"age\" and \"day_of_week\"."
   ]
  },
  {
   "cell_type": "code",
   "execution_count": 20,
   "id": "2c48c923-ef20-4925-b4af-56ece9138f7c",
   "metadata": {},
   "outputs": [],
   "source": [
    "df_second_model = df[[\"poutcome\", \"previous\", \"education\", \"age\", \"day_of_week\", \"y\"]]\n",
    "\n",
    "# NaN suppression\n",
    "df_second_model = df_second_model.dropna()\n",
    "\n",
    "# Converting object columns into categorical\n",
    "encoder = LabelEncoder()\n",
    "\n",
    "for col in df[[\"poutcome\", \"education\", \"day_of_week\", \"y\"]] :\n",
    "    df_second_model[col] = encoder.fit_transform(df_second_model[col])\n",
    "\n",
    "# IV and DVs\n",
    "y = df_second_model['y']\n",
    "X = df_second_model.drop(columns = 'y', axis = 0)"
   ]
  },
  {
   "cell_type": "code",
   "execution_count": 21,
   "id": "dbc7b220-8f40-46fc-8074-09de8ca16e7a",
   "metadata": {},
   "outputs": [
    {
     "name": "stdout",
     "output_type": "stream",
     "text": [
      "              precision    recall  f1-score   support\n",
      "\n",
      "           0       0.90      0.99      0.94      3519\n",
      "           1       0.59      0.11      0.19       426\n",
      "\n",
      "    accuracy                           0.90      3945\n",
      "   macro avg       0.75      0.55      0.57      3945\n",
      "weighted avg       0.87      0.90      0.86      3945\n",
      "\n"
     ]
    }
   ],
   "source": [
    "accuracy_second_model_simple, precision_second_model_simple, recall_second_model_simple, f1_second_model_simple, roc_auc_second_model_simple = modeling(X, y)"
   ]
  },
  {
   "cell_type": "code",
   "execution_count": 22,
   "id": "9ce3f1c4-749d-4c73-8dcb-91cb1d642412",
   "metadata": {},
   "outputs": [
    {
     "name": "stdout",
     "output_type": "stream",
     "text": [
      "Répartition initiale des classes : Counter({0: 17502, 1: 2222})\n",
      "Répartition après sous-échantillonnage : Counter({0: 2222, 1: 2222})\n"
     ]
    }
   ],
   "source": [
    "# Under sampling\n",
    "\n",
    "# Vérification de la répartition initiale des classes\n",
    "print(f\"Répartition initiale des classes : {Counter(y)}\")\n",
    "\n",
    "# Appliquer le sous-échantillonnage (undersampling)\n",
    "rus = RandomUnderSampler(sampling_strategy='auto', random_state=42)\n",
    "X_us, y_us = rus.fit_resample(X, y)\n",
    "\n",
    "# Vérification de la répartition après sous-échantillonnage\n",
    "print(f\"Répartition après sous-échantillonnage : {Counter(y_us)}\")"
   ]
  },
  {
   "cell_type": "code",
   "execution_count": 23,
   "id": "c020cb05-56bc-41ef-bad5-5a19089a170d",
   "metadata": {},
   "outputs": [
    {
     "name": "stdout",
     "output_type": "stream",
     "text": [
      "              precision    recall  f1-score   support\n",
      "\n",
      "           0       0.57      0.81      0.67       458\n",
      "           1       0.64      0.35      0.45       431\n",
      "\n",
      "    accuracy                           0.59       889\n",
      "   macro avg       0.60      0.58      0.56       889\n",
      "weighted avg       0.60      0.59      0.56       889\n",
      "\n"
     ]
    }
   ],
   "source": [
    "accuracy_second_model_us, precision_second_model_us, recall_second_model_us, f1_second_model_us, roc_auc_second_model_us = modeling(X_us, y_us)"
   ]
  },
  {
   "cell_type": "code",
   "execution_count": 24,
   "id": "849031fa-4d38-40fc-b540-ba7305dc6096",
   "metadata": {},
   "outputs": [
    {
     "name": "stdout",
     "output_type": "stream",
     "text": [
      "Répartition après SMOTE : Counter({0: 17502, 1: 17502})\n"
     ]
    }
   ],
   "source": [
    "# SMOTE\n",
    "# Appliquer SMOTE pour augmenter la classe minoritaire\n",
    "smote = SMOTE(random_state=42)\n",
    "X_os, y_os = smote.fit_resample(X, y)\n",
    "\n",
    "# Vérification de la répartition après SMOTE\n",
    "print(f\"Répartition après SMOTE : {Counter(y_os)}\")"
   ]
  },
  {
   "cell_type": "code",
   "execution_count": 25,
   "id": "155fe291-d126-4a36-b2d6-d810d2225eed",
   "metadata": {},
   "outputs": [
    {
     "name": "stdout",
     "output_type": "stream",
     "text": [
      "              precision    recall  f1-score   support\n",
      "\n",
      "           0       0.55      0.80      0.66      3498\n",
      "           1       0.64      0.36      0.46      3503\n",
      "\n",
      "    accuracy                           0.58      7001\n",
      "   macro avg       0.60      0.58      0.56      7001\n",
      "weighted avg       0.60      0.58      0.56      7001\n",
      "\n"
     ]
    }
   ],
   "source": [
    "accuracy_second_model_os, precision_second_model_os, recall_second_model_os, f1_second_model_os, roc_auc_second_model_os = modeling(X_os, y_os)"
   ]
  },
  {
   "cell_type": "code",
   "execution_count": 76,
   "id": "57f6cb84-494b-4020-a03c-44aef122daa6",
   "metadata": {},
   "outputs": [
    {
     "name": "stdout",
     "output_type": "stream",
     "text": [
      "Répartition après SMOTEENN : Counter({0: 12523, 1: 258})\n"
     ]
    }
   ],
   "source": [
    "# Hybrid Sampling\n",
    "\n",
    "# Combinaison de SMOTE et NearMiss\n",
    "smote_enn = SMOTEENN(random_state=42)\n",
    "X_hs, y_hs = smote_enn.fit_resample(X, y)\n",
    "\n",
    "print(f\"Répartition après SMOTEENN : {Counter(y_hs)}\")"
   ]
  },
  {
   "cell_type": "code",
   "execution_count": 27,
   "id": "ed2969fe-afc8-45e7-88b3-22201c7da3fa",
   "metadata": {},
   "outputs": [
    {
     "name": "stdout",
     "output_type": "stream",
     "text": [
      "              precision    recall  f1-score   support\n",
      "\n",
      "           0       0.89      0.97      0.93      2599\n",
      "           1       0.87      0.65      0.75       860\n",
      "\n",
      "    accuracy                           0.89      3459\n",
      "   macro avg       0.88      0.81      0.84      3459\n",
      "weighted avg       0.89      0.89      0.88      3459\n",
      "\n"
     ]
    }
   ],
   "source": [
    "accuracy_second_model_hs, precision_second_model_hs, recall_second_model_hs, f1_second_model_hs, roc_auc_second_model_hs = modeling(X_hs, y_hs)"
   ]
  },
  {
   "cell_type": "code",
   "execution_count": 66,
   "id": "b492e5a9-a598-4933-9596-c527ae9d7553",
   "metadata": {},
   "outputs": [
    {
     "data": {
      "text/html": [
       "<div>\n",
       "<style scoped>\n",
       "    .dataframe tbody tr th:only-of-type {\n",
       "        vertical-align: middle;\n",
       "    }\n",
       "\n",
       "    .dataframe tbody tr th {\n",
       "        vertical-align: top;\n",
       "    }\n",
       "\n",
       "    .dataframe thead th {\n",
       "        text-align: right;\n",
       "    }\n",
       "</style>\n",
       "<table border=\"1\" class=\"dataframe\">\n",
       "  <thead>\n",
       "    <tr style=\"text-align: right;\">\n",
       "      <th></th>\n",
       "      <th>Accuracy</th>\n",
       "      <th>Precision</th>\n",
       "      <th>Recall</th>\n",
       "      <th>F1 Score</th>\n",
       "      <th>ROC AUC</th>\n",
       "    </tr>\n",
       "  </thead>\n",
       "  <tbody>\n",
       "    <tr>\n",
       "      <th>First Model Simple</th>\n",
       "      <td>0.883003</td>\n",
       "      <td>0.000000</td>\n",
       "      <td>0.000000</td>\n",
       "      <td>0.000000</td>\n",
       "      <td>0.612017</td>\n",
       "    </tr>\n",
       "    <tr>\n",
       "      <th>First Model Under Sampling</th>\n",
       "      <td>0.620198</td>\n",
       "      <td>0.578767</td>\n",
       "      <td>0.771689</td>\n",
       "      <td>0.661448</td>\n",
       "      <td>0.617510</td>\n",
       "    </tr>\n",
       "    <tr>\n",
       "      <th>First Model Over Sampling</th>\n",
       "      <td>0.636660</td>\n",
       "      <td>0.601549</td>\n",
       "      <td>0.813190</td>\n",
       "      <td>0.691539</td>\n",
       "      <td>0.641800</td>\n",
       "    </tr>\n",
       "    <tr>\n",
       "      <th>First Model Hybrid Sampling</th>\n",
       "      <td>0.978099</td>\n",
       "      <td>0.142857</td>\n",
       "      <td>0.019608</td>\n",
       "      <td>0.034483</td>\n",
       "      <td>0.875468</td>\n",
       "    </tr>\n",
       "    <tr>\n",
       "      <th>Second Model Simple</th>\n",
       "      <td>0.895817</td>\n",
       "      <td>0.594937</td>\n",
       "      <td>0.110329</td>\n",
       "      <td>0.186139</td>\n",
       "      <td>0.562694</td>\n",
       "    </tr>\n",
       "    <tr>\n",
       "      <th>Second Model Under Sampling</th>\n",
       "      <td>0.588301</td>\n",
       "      <td>0.635983</td>\n",
       "      <td>0.352668</td>\n",
       "      <td>0.453731</td>\n",
       "      <td>0.570756</td>\n",
       "    </tr>\n",
       "    <tr>\n",
       "      <th>Second Model Over Sampling</th>\n",
       "      <td>0.579346</td>\n",
       "      <td>0.642784</td>\n",
       "      <td>0.358550</td>\n",
       "      <td>0.460326</td>\n",
       "      <td>0.532083</td>\n",
       "    </tr>\n",
       "    <tr>\n",
       "      <th>Second Model Hybrid Sampling</th>\n",
       "      <td>0.890142</td>\n",
       "      <td>0.873832</td>\n",
       "      <td>0.652326</td>\n",
       "      <td>0.747004</td>\n",
       "      <td>0.548277</td>\n",
       "    </tr>\n",
       "  </tbody>\n",
       "</table>\n",
       "</div>"
      ],
      "text/plain": [
       "                              Accuracy  Precision    Recall  F1 Score  \\\n",
       "First Model Simple            0.883003   0.000000  0.000000  0.000000   \n",
       "First Model Under Sampling    0.620198   0.578767  0.771689  0.661448   \n",
       "First Model Over Sampling     0.636660   0.601549  0.813190  0.691539   \n",
       "First Model Hybrid Sampling   0.978099   0.142857  0.019608  0.034483   \n",
       "Second Model Simple           0.895817   0.594937  0.110329  0.186139   \n",
       "Second Model Under Sampling   0.588301   0.635983  0.352668  0.453731   \n",
       "Second Model Over Sampling    0.579346   0.642784  0.358550  0.460326   \n",
       "Second Model Hybrid Sampling  0.890142   0.873832  0.652326  0.747004   \n",
       "\n",
       "                               ROC AUC  \n",
       "First Model Simple            0.612017  \n",
       "First Model Under Sampling    0.617510  \n",
       "First Model Over Sampling     0.641800  \n",
       "First Model Hybrid Sampling   0.875468  \n",
       "Second Model Simple           0.562694  \n",
       "Second Model Under Sampling   0.570756  \n",
       "Second Model Over Sampling    0.532083  \n",
       "Second Model Hybrid Sampling  0.548277  "
      ]
     },
     "metadata": {},
     "output_type": "display_data"
    }
   ],
   "source": [
    "metrics = {'Accuracy' : [accuracy_first_model_simple, accuracy_first_model_us, accuracy_first_model_os, accuracy_first_model_hs,\n",
    "                        accuracy_second_model_simple, accuracy_second_model_us, accuracy_second_model_os, accuracy_second_model_hs],\n",
    "           \n",
    "           'Precision' : [precision_first_model_simple, precision_first_model_us, precision_first_model_os, precision_first_model_hs,\n",
    "                         precision_second_model_simple, precision_second_model_us, precision_second_model_os, precision_second_model_hs],\n",
    "           \n",
    "           'Recall' : [recall_first_model_simple, recall_first_model_us, recall_first_model_os, recall_first_model_hs,\n",
    "                      recall_second_model_simple, recall_second_model_us, recall_second_model_os, recall_second_model_hs],\n",
    "           \n",
    "           'F1 Score' : [f1_first_model_simple, f1_first_model_us, f1_first_model_os, f1_first_model_hs,\n",
    "                        f1_second_model_simple, f1_second_model_us, f1_second_model_os, f1_second_model_hs],\n",
    "           \n",
    "           'ROC AUC' : [roc_auc_first_model_simple, roc_auc_first_model_us, roc_auc_first_model_os, roc_auc_first_model_hs,\n",
    "                       roc_auc_second_model_simple, roc_auc_second_model_us, roc_auc_second_model_os, roc_auc_second_model_hs]}\n",
    "\n",
    "# Créer un DataFrame pour afficher les résultats\n",
    "metrics_df = pd.DataFrame(metrics, index = ['First Model Simple', 'First Model Under Sampling', 'First Model Over Sampling', 'First Model Hybrid Sampling',\n",
    "                                           'Second Model Simple', 'Second Model Under Sampling', 'Second Model Over Sampling', 'Second Model Hybrid Sampling'])\n",
    "#metrics_df = metrics_df.apply(lambda x: f'{x*100}%', axis = 1)\n",
    "# Afficher les résultats\n",
    "display(metrics_df)"
   ]
  },
  {
   "cell_type": "code",
   "execution_count": 29,
   "id": "39b5f513-c4d6-43e2-bc1f-98dcf0fc4e77",
   "metadata": {},
   "outputs": [
    {
     "name": "stdout",
     "output_type": "stream",
     "text": [
      "Our best model is the second one, using an hybrid sampling to equilibrate the outcome variable\n"
     ]
    }
   ],
   "source": [
    "print('Our best model is the second one, using an hybrid sampling to equilibrate the outcome variable')"
   ]
  },
  {
   "cell_type": "code",
   "execution_count": null,
   "id": "0c448983-7c2d-44b7-a980-117fa36c2086",
   "metadata": {},
   "outputs": [],
   "source": []
  }
 ],
 "metadata": {
  "kernelspec": {
   "display_name": "Python [conda env:base] *",
   "language": "python",
   "name": "conda-base-py"
  },
  "language_info": {
   "codemirror_mode": {
    "name": "ipython",
    "version": 3
   },
   "file_extension": ".py",
   "mimetype": "text/x-python",
   "name": "python",
   "nbconvert_exporter": "python",
   "pygments_lexer": "ipython3",
   "version": "3.11.7"
  }
 },
 "nbformat": 4,
 "nbformat_minor": 5
}
